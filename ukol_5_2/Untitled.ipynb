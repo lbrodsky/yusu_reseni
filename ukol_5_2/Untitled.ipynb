{
 "cells": [
  {
   "cell_type": "code",
   "execution_count": null,
   "id": "e44dea6a",
   "metadata": {},
   "outputs": [],
   "source": [
    "Cil: rozpoznat 5 trid \n",
    "vstup 5 souboru \n",
    "X = obrazova data z pdf \n",
    "tridy = {'popis_pole',  'nacrt', 'DP', 'vykaz_vymer',  'zadost'} \n",
    "y ... jak udelat? \n",
    "\n",
    "1 .. 'popis_pole'  \n",
    "2 .. 'nacrt', \n",
    "3 .. 'DP' \n",
    "4 .. 'vykaz_vymer' \n",
    "5 .. 'zadost'\n",
    "\n",
    "Model by mel prediklovat jestli v aadanme X je jeden nebo vice z trid \n",
    "\n",
    "~ intsance based learning "
   ]
  },
  {
   "cell_type": "code",
   "execution_count": null,
   "id": "70d92629",
   "metadata": {},
   "outputs": [],
   "source": []
  }
 ],
 "metadata": {
  "kernelspec": {
   "display_name": "Python 3 (ipykernel)",
   "language": "python",
   "name": "python3"
  },
  "language_info": {
   "codemirror_mode": {
    "name": "ipython",
    "version": 3
   },
   "file_extension": ".py",
   "mimetype": "text/x-python",
   "name": "python",
   "nbconvert_exporter": "python",
   "pygments_lexer": "ipython3",
   "version": "3.9.10"
  }
 },
 "nbformat": 4,
 "nbformat_minor": 5
}
